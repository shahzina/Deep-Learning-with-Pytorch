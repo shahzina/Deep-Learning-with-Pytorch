{
 "cells": [
  {
   "cell_type": "markdown",
   "metadata": {},
   "source": [
    "## Part- 1 - Intro to tensors"
   ]
  },
  {
   "cell_type": "code",
   "execution_count": 1,
   "metadata": {},
   "outputs": [],
   "source": [
    "import torch"
   ]
  },
  {
   "cell_type": "code",
   "execution_count": 2,
   "metadata": {},
   "outputs": [],
   "source": [
    "#sigmoid activation\n",
    "def activation(x):\n",
    "    return 1/(1+torch.exp(-x))\n",
    "\n"
   ]
  },
  {
   "cell_type": "code",
   "execution_count": 3,
   "metadata": {},
   "outputs": [],
   "source": [
    "torch.manual_seed(7) #generates data\n",
    "\n",
    "#generates 5 random vars, size is 1 row and 5 columns\n",
    "features = torch.randn((1,5))\n",
    "\n",
    "#generate weights with same shape as features\n",
    "weights = torch.randn_like(features)\n",
    "\n",
    "#define a bias term\n",
    "bias = torch.randn((1,1))"
   ]
  },
  {
   "cell_type": "code",
   "execution_count": 4,
   "metadata": {},
   "outputs": [
    {
     "name": "stdout",
     "output_type": "stream",
     "text": [
      "tensor([[0.1595]])\n"
     ]
    }
   ],
   "source": [
    "#First, calculate output using weights and bias tensors\n",
    "\n",
    "y = activation((features*weights).sum() + bias)\n",
    "print(y)"
   ]
  },
  {
   "cell_type": "code",
   "execution_count": 5,
   "metadata": {},
   "outputs": [
    {
     "name": "stdout",
     "output_type": "stream",
     "text": [
      "tensor([[0.1595]])\n"
     ]
    }
   ],
   "source": [
    "# Second, calculate output of network using matrix multiplication\n",
    "\n",
    "y = activation(torch.mm(features, weights.view(5,1)) + bias)\n",
    "print(y)"
   ]
  },
  {
   "cell_type": "markdown",
   "metadata": {},
   "source": [
    "### Adding more layers"
   ]
  },
  {
   "cell_type": "code",
   "execution_count": 6,
   "metadata": {},
   "outputs": [],
   "source": [
    "#generate more data\n",
    "torch.manual_seed(7)\n",
    "\n",
    "#features are 3 random normal variables\n",
    "features = torch.randn((1,3))\n",
    "\n",
    "#define the size of each layer in the network\n",
    "n_input = features.shape[1] #must match number of input features\n",
    "n_hidden = 2\n",
    "n_output = 1\n",
    "\n",
    "#weights for input to hidden layer\n",
    "w1 = torch.randn(n_input,n_hidden)\n",
    "\n",
    "#weights for hidden to output layer\n",
    "w2 = torch.randn(n_hidden, n_output)\n",
    "\n",
    "#bias terms for both layers\n",
    "b1 = torch.randn((1, n_hidden))\n",
    "b2 = torch.randn((1, n_output))"
   ]
  },
  {
   "cell_type": "code",
   "execution_count": 7,
   "metadata": {},
   "outputs": [
    {
     "name": "stdout",
     "output_type": "stream",
     "text": [
      "tensor([[0.3171]])\n"
     ]
    }
   ],
   "source": [
    "h = activation(torch.mm(features, w1) + b1)\n",
    "output = activation(torch.mm(h, w2) + b2)\n",
    "print(output)"
   ]
  },
  {
   "cell_type": "markdown",
   "metadata": {},
   "source": [
    "## Part- 2 Neural Networks with PyTorch"
   ]
  },
  {
   "cell_type": "code",
   "execution_count": 8,
   "metadata": {},
   "outputs": [],
   "source": [
    "#import more packages\n",
    "\n",
    "%matplotlib inline\n",
    "%config InlineBackend.figure_format = 'retina'\n",
    "\n",
    "import numpy as np\n",
    "import torch\n",
    "import helper\n",
    "import matplotlib.pyplot as plt\n"
   ]
  },
  {
   "cell_type": "markdown",
   "metadata": {},
   "source": [
    "### Importing and Transforming Data"
   ]
  },
  {
   "cell_type": "code",
   "execution_count": 9,
   "metadata": {},
   "outputs": [],
   "source": [
    "from torchvision import datasets, transforms\n",
    "\n",
    "#data normalization using transform\n",
    "transform = transforms.Compose([transforms.ToTensor(), transforms.Normalize((0.5,),(0.5,)),\n",
    "                               ])\n",
    "\n",
    "#download and load training data aka MNIST dataset here. \n",
    "trainset = datasets.MNIST('~/.pytorch/MNIST_data/', \n",
    "                         download = True,\n",
    "                         train = True, \n",
    "                         transform=transform)\n",
    "trainloader = torch.utils.data.DataLoader(trainset,\n",
    "                                         batch_size=64, #64 images in each iteration\n",
    "                                         shuffle =True)"
   ]
  },
  {
   "cell_type": "code",
   "execution_count": 10,
   "metadata": {},
   "outputs": [
    {
     "name": "stdout",
     "output_type": "stream",
     "text": [
      "<class 'torch.Tensor'>\n",
      "torch.Size([64, 1, 28, 28])\n",
      "torch.Size([64])\n"
     ]
    }
   ],
   "source": [
    "dataiter = iter(trainloader) #iterate thru dataset \n",
    "images, labels = dataiter.next() #get the image and associated label in each iteration\n",
    "\n",
    "print(type(images))\n",
    "print(images.shape)\n",
    "print(labels.shape)"
   ]
  },
  {
   "cell_type": "code",
   "execution_count": 11,
   "metadata": {},
   "outputs": [
    {
     "data": {
      "text/plain": [
       "<matplotlib.image.AxesImage at 0x110bb12b0>"
      ]
     },
     "execution_count": 11,
     "metadata": {},
     "output_type": "execute_result"
    },
    {
     "data": {
      "image/png": "[encoded data removed]",
      "text/plain": [
       "<Figure size 432x288 with 1 Axes>"
      ]
     },
     "metadata": {
      "image/png": {
       "height": 250,
       "width": 253
      }
     },
     "output_type": "display_data"
    }
   ],
   "source": [
    "#plot an example\n",
    "plt.imshow(images[3].numpy().squeeze(), cmap='Greys_r')"
   ]
  },
  {
   "cell_type": "markdown",
   "metadata": {},
   "source": [
    "**Exercise**: Flatten the batch of images images. Then build a multi-layer network with 784 input units, 256 hidden units, and 10 output units using random tensors for the weights and biases. For now, use a sigmoid activation for the hidden layer. Leave the output layer without an activation, we'll add one that gives us a probability distribution next."
   ]
  },
  {
   "cell_type": "code",
   "execution_count": 12,
   "metadata": {},
   "outputs": [
    {
     "name": "stdout",
     "output_type": "stream",
     "text": [
      "torch.Size([64, 10])\n"
     ]
    }
   ],
   "source": [
    "#use activation func defined above\n",
    "\n",
    "inputs = images.view(images.shape[0], -1)\n",
    "#batch size remains the same while -1 flattens the image\n",
    "\n",
    "W1 = torch.randn(784,256)\n",
    "B1 = torch.randn(256)\n",
    "\n",
    "W2=torch.randn(256,10)\n",
    "B2=torch.randn(10)\n",
    "\n",
    "h = activation(torch.mm(inputs,W1)+B1)\n",
    "output = activation(torch.mm(h,W2)+B2)\n",
    "\n",
    "print(output.shape)"
   ]
  },
  {
   "cell_type": "markdown",
   "metadata": {},
   "source": [
    "### Using Softmax activation </br>\n",
    "To calculate probability distribution"
   ]
  },
  {
   "cell_type": "markdown",
   "metadata": {},
   "source": [
    "**Exercise**: Implement a function softmax that performs the softmax calculation and returns probability distributions for each example in the batch. Note that you'll need to pay attention to the shapes when doing this. If you have a tensor a with shape (64, 10) and a tensor b with shape (64,), doing a/b will give you an error because PyTorch will try to do the division across the columns (called broadcasting) but you'll get a size mismatch. The way to think about this is for each of the 64 examples, you only want to divide by one value, the sum in the denominator. So you need b to have a shape of (64, 1). This way PyTorch will divide the 10 values in each row of a by the one value in each row of b. Pay attention to how you take the sum as well. You'll need to define the dim keyword in torch.sum. Setting dim=0 takes the sum across the rows while dim=1 takes the sum across the columns."
   ]
  },
  {
   "cell_type": "code",
   "execution_count": 13,
   "metadata": {},
   "outputs": [
    {
     "name": "stdout",
     "output_type": "stream",
     "text": [
      "torch.Size([64, 10])\n",
      "tensor([1.0000, 1.0000, 1.0000, 1.0000, 1.0000, 1.0000, 1.0000, 1.0000, 1.0000,\n",
      "        1.0000, 1.0000, 1.0000, 1.0000, 1.0000, 1.0000, 1.0000, 1.0000, 1.0000,\n",
      "        1.0000, 1.0000, 1.0000, 1.0000, 1.0000, 1.0000, 1.0000, 1.0000, 1.0000,\n",
      "        1.0000, 1.0000, 1.0000, 1.0000, 1.0000, 1.0000, 1.0000, 1.0000, 1.0000,\n",
      "        1.0000, 1.0000, 1.0000, 1.0000, 1.0000, 1.0000, 1.0000, 1.0000, 1.0000,\n",
      "        1.0000, 1.0000, 1.0000, 1.0000, 1.0000, 1.0000, 1.0000, 1.0000, 1.0000,\n",
      "        1.0000, 1.0000, 1.0000, 1.0000, 1.0000, 1.0000, 1.0000, 1.0000, 1.0000,\n",
      "        1.0000])\n"
     ]
    }
   ],
   "source": [
    "def softmax(x):\n",
    "    return torch.exp(x)/torch.sum(torch.exp(x),\n",
    "                                 dim=1).view(-1,1)\n",
    "probabilities = softmax(output)\n",
    "\n",
    "print(probabilities.shape) #check shape\n",
    "\n",
    "print(probabilities.sum(dim=1)) #check sum, shud = 1\n"
   ]
  },
  {
   "cell_type": "markdown",
   "metadata": {},
   "source": [
    "### Build a Network"
   ]
  },
  {
   "cell_type": "code",
   "execution_count": 14,
   "metadata": {},
   "outputs": [],
   "source": [
    "from torch import nn"
   ]
  },
  {
   "cell_type": "code",
   "execution_count": 15,
   "metadata": {},
   "outputs": [],
   "source": [
    "class Network(nn.Module):\n",
    "    def __init__ (self):\n",
    "        super().__init__()\n",
    "        \n",
    "        self.hidden = nn.Linear(784,256)\n",
    "        self.output = nn.Linear(256,10)\n",
    "        \n",
    "        self.sigmoid = nn.Sigmoid()\n",
    "        self.softmax = nn.Softmax(dim=1)\n",
    "        \n",
    "    def forward(self,x):\n",
    "        x=self.hidden(x)\n",
    "        x=self.sigmoid(x)\n",
    "        x=self.output(x)\n",
    "        x=self.softmax(x)\n",
    "        \n",
    "        return x"
   ]
  },
  {
   "cell_type": "markdown",
   "metadata": {},
   "source": [
    "### Text representation of Network"
   ]
  },
  {
   "cell_type": "code",
   "execution_count": 16,
   "metadata": {},
   "outputs": [
    {
     "data": {
      "text/plain": [
       "Network(\n",
       "  (hidden): Linear(in_features=784, out_features=256, bias=True)\n",
       "  (output): Linear(in_features=256, out_features=10, bias=True)\n",
       "  (sigmoid): Sigmoid()\n",
       "  (softmax): Softmax(dim=1)\n",
       ")"
      ]
     },
     "execution_count": 16,
     "metadata": {},
     "output_type": "execute_result"
    }
   ],
   "source": [
    "model=Network()\n",
    "model"
   ]
  },
  {
   "cell_type": "markdown",
   "metadata": {},
   "source": [
    "### Alternative: </br>\n",
    "using nn.functional"
   ]
  },
  {
   "cell_type": "code",
   "execution_count": 17,
   "metadata": {},
   "outputs": [],
   "source": [
    "import torch.nn.functional as F\n",
    "\n",
    "class Network(nn.Module):\n",
    "    def __init__(self):\n",
    "        \n",
    "        self.hidden = nn.Linear(784,256)\n",
    "        self.output=nn.Linear(256,10)\n",
    "        \n",
    "    def forward(self, x):\n",
    "        \n",
    "        x=F.sigmoid(self.hidden(x))\n",
    "        x=F.softmax(self.output(x), dim=1)\n",
    "        \n",
    "        return x"
   ]
  },
  {
   "cell_type": "code",
   "execution_count": 18,
   "metadata": {},
   "outputs": [
    {
     "name": "stdout",
     "output_type": "stream",
     "text": [
      "Parameter containing:\n",
      "tensor([[ 0.0219, -0.0308,  0.0297,  ..., -0.0044, -0.0092,  0.0109],\n",
      "        [ 0.0017,  0.0100,  0.0100,  ...,  0.0201, -0.0118,  0.0172],\n",
      "        [ 0.0275,  0.0161, -0.0163,  ..., -0.0271,  0.0029, -0.0123],\n",
      "        ...,\n",
      "        [-0.0085,  0.0134, -0.0203,  ..., -0.0170,  0.0070,  0.0125],\n",
      "        [-0.0043,  0.0144, -0.0192,  ...,  0.0091, -0.0009,  0.0074],\n",
      "        [-0.0163,  0.0308, -0.0002,  ...,  0.0033,  0.0122, -0.0110]],\n",
      "       requires_grad=True)\n"
     ]
    }
   ],
   "source": [
    "print(model.hidden.weight)"
   ]
  },
  {
   "cell_type": "code",
   "execution_count": 19,
   "metadata": {},
   "outputs": [
    {
     "name": "stdout",
     "output_type": "stream",
     "text": [
      "Parameter containing:\n",
      "tensor([ 0.0131,  0.0059,  0.0049, -0.0089,  0.0288,  0.0030, -0.0065,  0.0276,\n",
      "         0.0240, -0.0237,  0.0135, -0.0111,  0.0287,  0.0128, -0.0167,  0.0032,\n",
      "        -0.0320, -0.0230,  0.0326, -0.0179, -0.0116, -0.0056,  0.0347,  0.0290,\n",
      "         0.0309,  0.0123, -0.0154,  0.0352,  0.0015, -0.0257,  0.0071,  0.0195,\n",
      "        -0.0009,  0.0192,  0.0252,  0.0135,  0.0021, -0.0183,  0.0069,  0.0337,\n",
      "         0.0180,  0.0347, -0.0273, -0.0329,  0.0274,  0.0201, -0.0274,  0.0297,\n",
      "        -0.0161,  0.0213,  0.0122,  0.0216, -0.0073,  0.0262, -0.0189, -0.0070,\n",
      "        -0.0075, -0.0077, -0.0077, -0.0127, -0.0180,  0.0230,  0.0012, -0.0331,\n",
      "         0.0133,  0.0003, -0.0274, -0.0112, -0.0322,  0.0201, -0.0077,  0.0268,\n",
      "         0.0124, -0.0291,  0.0049, -0.0351, -0.0130, -0.0136,  0.0105, -0.0022,\n",
      "        -0.0205,  0.0277, -0.0005, -0.0351, -0.0169,  0.0303, -0.0143, -0.0218,\n",
      "         0.0189, -0.0134,  0.0180, -0.0334,  0.0219, -0.0110,  0.0019, -0.0247,\n",
      "         0.0008,  0.0172,  0.0241, -0.0213,  0.0155, -0.0214, -0.0318,  0.0055,\n",
      "        -0.0033, -0.0105, -0.0229, -0.0161,  0.0199,  0.0324, -0.0339,  0.0314,\n",
      "         0.0324,  0.0134,  0.0275,  0.0262, -0.0220,  0.0339,  0.0090, -0.0070,\n",
      "         0.0237,  0.0172, -0.0188,  0.0209,  0.0133,  0.0295, -0.0082, -0.0244,\n",
      "        -0.0087,  0.0217,  0.0108, -0.0069, -0.0073, -0.0038,  0.0036,  0.0002,\n",
      "         0.0175, -0.0303, -0.0319,  0.0069, -0.0280,  0.0069, -0.0338, -0.0216,\n",
      "         0.0247,  0.0025, -0.0124,  0.0331,  0.0244,  0.0128, -0.0305, -0.0309,\n",
      "         0.0186, -0.0168,  0.0270, -0.0217,  0.0214, -0.0021,  0.0087, -0.0006,\n",
      "        -0.0013,  0.0133, -0.0152, -0.0342,  0.0255,  0.0127, -0.0248, -0.0027,\n",
      "        -0.0151, -0.0156, -0.0104,  0.0340, -0.0249, -0.0060, -0.0213, -0.0070,\n",
      "         0.0330, -0.0203,  0.0060,  0.0061,  0.0108,  0.0183,  0.0215,  0.0171,\n",
      "        -0.0340,  0.0285,  0.0286,  0.0021,  0.0139,  0.0347,  0.0149,  0.0260,\n",
      "        -0.0242, -0.0030,  0.0180,  0.0097,  0.0098, -0.0088, -0.0186, -0.0218,\n",
      "        -0.0164, -0.0258, -0.0186, -0.0290,  0.0129, -0.0102,  0.0025, -0.0199,\n",
      "         0.0124,  0.0218, -0.0046,  0.0340,  0.0310,  0.0033, -0.0303, -0.0064,\n",
      "        -0.0299, -0.0304, -0.0096,  0.0321, -0.0332, -0.0287,  0.0346,  0.0077,\n",
      "         0.0060, -0.0290, -0.0081, -0.0138, -0.0084,  0.0173, -0.0087, -0.0264,\n",
      "         0.0264,  0.0353,  0.0085,  0.0245, -0.0104,  0.0129,  0.0086, -0.0094,\n",
      "        -0.0068,  0.0338, -0.0005, -0.0229, -0.0239, -0.0136,  0.0356,  0.0131,\n",
      "         0.0056, -0.0193,  0.0315, -0.0152,  0.0267, -0.0208, -0.0069,  0.0009],\n",
      "       requires_grad=True)\n"
     ]
    }
   ],
   "source": [
    "print(model.hidden.bias)"
   ]
  },
  {
   "cell_type": "code",
   "execution_count": 20,
   "metadata": {},
   "outputs": [
    {
     "data": {
      "text/plain": [
       "tensor([0., 0., 0., 0., 0., 0., 0., 0., 0., 0., 0., 0., 0., 0., 0., 0., 0., 0., 0., 0., 0., 0., 0., 0.,\n",
       "        0., 0., 0., 0., 0., 0., 0., 0., 0., 0., 0., 0., 0., 0., 0., 0., 0., 0., 0., 0., 0., 0., 0., 0.,\n",
       "        0., 0., 0., 0., 0., 0., 0., 0., 0., 0., 0., 0., 0., 0., 0., 0., 0., 0., 0., 0., 0., 0., 0., 0.,\n",
       "        0., 0., 0., 0., 0., 0., 0., 0., 0., 0., 0., 0., 0., 0., 0., 0., 0., 0., 0., 0., 0., 0., 0., 0.,\n",
       "        0., 0., 0., 0., 0., 0., 0., 0., 0., 0., 0., 0., 0., 0., 0., 0., 0., 0., 0., 0., 0., 0., 0., 0.,\n",
       "        0., 0., 0., 0., 0., 0., 0., 0., 0., 0., 0., 0., 0., 0., 0., 0., 0., 0., 0., 0., 0., 0., 0., 0.,\n",
       "        0., 0., 0., 0., 0., 0., 0., 0., 0., 0., 0., 0., 0., 0., 0., 0., 0., 0., 0., 0., 0., 0., 0., 0.,\n",
       "        0., 0., 0., 0., 0., 0., 0., 0., 0., 0., 0., 0., 0., 0., 0., 0., 0., 0., 0., 0., 0., 0., 0., 0.,\n",
       "        0., 0., 0., 0., 0., 0., 0., 0., 0., 0., 0., 0., 0., 0., 0., 0., 0., 0., 0., 0., 0., 0., 0., 0.,\n",
       "        0., 0., 0., 0., 0., 0., 0., 0., 0., 0., 0., 0., 0., 0., 0., 0., 0., 0., 0., 0., 0., 0., 0., 0.,\n",
       "        0., 0., 0., 0., 0., 0., 0., 0., 0., 0., 0., 0., 0., 0., 0., 0.])"
      ]
     },
     "execution_count": 20,
     "metadata": {},
     "output_type": "execute_result"
    }
   ],
   "source": [
    "model.hidden.bias.data.fill_(0) #set all biases to 0"
   ]
  },
  {
   "cell_type": "code",
   "execution_count": 21,
   "metadata": {},
   "outputs": [
    {
     "data": {
      "text/plain": [
       "tensor([[ 0.0099, -0.0076,  0.0079,  ...,  0.0054, -0.0297, -0.0064],\n",
       "        [-0.0053, -0.0163,  0.0172,  ..., -0.0093,  0.0088, -0.0070],\n",
       "        [ 0.0041, -0.0199,  0.0070,  ...,  0.0045,  0.0130, -0.0079],\n",
       "        ...,\n",
       "        [-0.0075, -0.0147, -0.0072,  ..., -0.0185,  0.0025,  0.0168],\n",
       "        [ 0.0139,  0.0023,  0.0206,  ..., -0.0086,  0.0194,  0.0126],\n",
       "        [ 0.0025,  0.0082, -0.0072,  ...,  0.0247,  0.0121, -0.0060]])"
      ]
     },
     "execution_count": 21,
     "metadata": {},
     "output_type": "execute_result"
    }
   ],
   "source": [
    "model.hidden.weight.data.normal_(std=0.01) #random normal variables "
   ]
  },
  {
   "cell_type": "markdown",
   "metadata": {},
   "source": [
    "### Pass image to the network"
   ]
  },
  {
   "cell_type": "code",
   "execution_count": 23,
   "metadata": {},
   "outputs": [
    {
     "data": {
      "image/png": "[encoded data removed]",
      "text/plain": [
       "<Figure size 432x648 with 2 Axes>"
      ]
     },
     "metadata": {
      "image/png": {
       "height": 226,
       "width": 423
      }
     },
     "output_type": "display_data"
    }
   ],
   "source": [
    "dataiter=iter(trainloader)\n",
    "images,labels=dataiter.next()\n",
    "\n",
    "images.resize_(64,1,784)\n",
    "\n",
    "img_idx = 0\n",
    "ps=model.forward(images[img_idx,:])\n",
    "\n",
    "img = images[img_idx]\n",
    "helper.view_classify(img.view(1,28,28),ps)"
   ]
  },
  {
   "cell_type": "markdown",
   "metadata": {},
   "source": [
    "### Using `nn.Sequential` </br>"
   ]
  },
  {
   "cell_type": "code",
   "execution_count": 24,
   "metadata": {},
   "outputs": [
    {
     "name": "stdout",
     "output_type": "stream",
     "text": [
      "Sequential(\n",
      "  (0): Linear(in_features=784, out_features=128, bias=True)\n",
      "  (1): ReLU()\n",
      "  (2): Linear(in_features=128, out_features=64, bias=True)\n",
      "  (3): ReLU()\n",
      "  (4): Linear(in_features=64, out_features=10, bias=True)\n",
      "  (5): Softmax(dim=1)\n",
      ")\n"
     ]
    },
    {
     "data": {
      "image/png": "[encoded data removed]",
      "text/plain": [
       "<Figure size 432x648 with 2 Axes>"
      ]
     },
     "metadata": {
      "image/png": {
       "height": 226,
       "width": 423
      }
     },
     "output_type": "display_data"
    }
   ],
   "source": [
    "#adding more layers to the network\n",
    "input_size = 784\n",
    "hidden_sizes= [128,64]\n",
    "output_size = 10\n",
    "\n",
    "#can also use OrderedDict to name the individual layers\n",
    "my_model = nn.Sequential(nn.Linear(input_size,hidden_sizes[0]),\n",
    "                        nn.ReLU(),\n",
    "                        nn.Linear(hidden_sizes[0],hidden_sizes[1]),\n",
    "                        nn.ReLU(),\n",
    "                        nn.Linear(hidden_sizes[1],output_size),\n",
    "                        nn.Softmax(dim=1))\n",
    "\n",
    "print(my_model)\n",
    "\n",
    "#Forward pass\n",
    "images,labels = next(iter(trainloader))\n",
    "images.resize_(images.shape[0],1,784)\n",
    "ps = model.forward(images[0,:])\n",
    "helper.view_classify(images[0].view(1,28,28),ps)"
   ]
  },
  {
   "cell_type": "code",
   "execution_count": 25,
   "metadata": {},
   "outputs": [
    {
     "name": "stdout",
     "output_type": "stream",
     "text": [
      "Linear(in_features=784, out_features=128, bias=True)\n"
     ]
    },
    {
     "data": {
      "text/plain": [
       "Parameter containing:\n",
       "tensor([[-0.0180, -0.0311, -0.0070,  ..., -0.0099,  0.0005, -0.0152],\n",
       "        [ 0.0020, -0.0265, -0.0281,  ...,  0.0302, -0.0071, -0.0049],\n",
       "        [-0.0355,  0.0343, -0.0177,  ..., -0.0295,  0.0339, -0.0071],\n",
       "        ...,\n",
       "        [ 0.0332, -0.0239,  0.0034,  ..., -0.0015, -0.0070, -0.0010],\n",
       "        [-0.0059, -0.0352, -0.0142,  ...,  0.0112, -0.0285, -0.0254],\n",
       "        [-0.0332, -0.0039, -0.0028,  ..., -0.0247, -0.0050,  0.0192]],\n",
       "       requires_grad=True)"
      ]
     },
     "execution_count": 25,
     "metadata": {},
     "output_type": "execute_result"
    }
   ],
   "source": [
    "print(my_model[0])\n",
    "my_model[0].weight"
   ]
  },
  {
   "cell_type": "code",
   "execution_count": null,
   "metadata": {},
   "outputs": [],
   "source": []
  },
  {
   "cell_type": "code",
   "execution_count": null,
   "metadata": {},
   "outputs": [],
   "source": []
  }
 ],
 "metadata": {
  "kernelspec": {
   "display_name": "Python 3",
   "language": "python",
   "name": "python3"
  },
  "language_info": {
   "codemirror_mode": {
    "name": "ipython",
    "version": 3
   },
   "file_extension": ".py",
   "mimetype": "text/x-python",
   "name": "python",
   "nbconvert_exporter": "python",
   "pygments_lexer": "ipython3",
   "version": "3.6.8"
  }
 },
 "nbformat": 4,
 "nbformat_minor": 2
}
